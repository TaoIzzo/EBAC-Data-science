{
 "cells": [
  {
   "cell_type": "markdown",
   "id": "2a700f0a",
   "metadata": {},
   "source": [
    "# Actividad Modulo 8\n",
    "## NumPy: Operaciones con arreglos y matrices\n",
    "### Ejercicios: \n",
    "1. Escribe un programa que mediante indexación en NumPy sea capaz de invertir un arreglo (donde el primer elemento se convierte en el último)"
   ]
  },
  {
   "cell_type": "code",
   "execution_count": 1,
   "id": "6dba5b50",
   "metadata": {},
   "outputs": [],
   "source": [
    "import numpy as np"
   ]
  },
  {
   "cell_type": "code",
   "execution_count": 3,
   "id": "676e58d1",
   "metadata": {},
   "outputs": [
    {
     "data": {
      "text/plain": [
       "array([12, 13, 14, 15, 16, 17, 18, 19, 20])"
      ]
     },
     "execution_count": 3,
     "metadata": {},
     "output_type": "execute_result"
    }
   ],
   "source": [
    "arreglo = np.arange(12,21)\n",
    "arreglo"
   ]
  },
  {
   "cell_type": "code",
   "execution_count": 6,
   "id": "3142e4f1",
   "metadata": {},
   "outputs": [
    {
     "data": {
      "text/plain": [
       "array([20, 19, 18, 17, 16, 15, 14, 13, 12])"
      ]
     },
     "execution_count": 6,
     "metadata": {},
     "output_type": "execute_result"
    }
   ],
   "source": [
    "arreglo[::-1]"
   ]
  },
  {
   "cell_type": "markdown",
   "id": "628de8a3",
   "metadata": {},
   "source": [
    "2. Escribe un programa con NumPy para convertir valores de grados Fahrenheit a grados centigrados. Los valores se almacenan en un arreglo de salida."
   ]
  },
  {
   "cell_type": "code",
   "execution_count": 14,
   "id": "49e1f78d",
   "metadata": {},
   "outputs": [
    {
     "data": {
      "text/plain": [
       "array([ 0.  , 12.  , 45.21, 34.  , 99.91, 32.  ])"
      ]
     },
     "execution_count": 14,
     "metadata": {},
     "output_type": "execute_result"
    }
   ],
   "source": [
    "f = np.array([0,12,45.21,34,99.91,32])\n",
    "f"
   ]
  },
  {
   "cell_type": "code",
   "execution_count": 28,
   "id": "5ffbb77e",
   "metadata": {},
   "outputs": [
    {
     "data": {
      "text/plain": [
       "array([-17.78, -11.11,   7.34,   1.11,  37.73,   0.  ])"
      ]
     },
     "execution_count": 28,
     "metadata": {},
     "output_type": "execute_result"
    }
   ],
   "source": [
    "c = np.round((5*(f-32))/9.,2)\n",
    "c"
   ]
  },
  {
   "cell_type": "markdown",
   "id": "e9b8e4f4",
   "metadata": {},
   "source": [
    "3. Escribe un programa con NumPy para encontrar la unión de dos arreglos. La unión debe devolver un arreglo ordenado de valores que están en cualquiera de los dos arreglos de entrada (sin repetición)."
   ]
  },
  {
   "cell_type": "code",
   "execution_count": 34,
   "id": "3aa5aafc",
   "metadata": {},
   "outputs": [
    {
     "data": {
      "text/plain": [
       "array([ 0, 10, 20])"
      ]
     },
     "execution_count": 34,
     "metadata": {},
     "output_type": "execute_result"
    }
   ],
   "source": [
    "array1=np.arange(0,30,10)\n",
    "array1"
   ]
  },
  {
   "cell_type": "code",
   "execution_count": 36,
   "id": "6e163bb7",
   "metadata": {},
   "outputs": [
    {
     "data": {
      "text/plain": [
       "array([20, 10, 30])"
      ]
     },
     "execution_count": 36,
     "metadata": {},
     "output_type": "execute_result"
    }
   ],
   "source": [
    "array2=np.array([20,10,30])\n",
    "array2"
   ]
  },
  {
   "cell_type": "code",
   "execution_count": 45,
   "id": "f0fcf2d8",
   "metadata": {},
   "outputs": [],
   "source": [
    "array = np.concatenate((array1,array2))"
   ]
  },
  {
   "cell_type": "code",
   "execution_count": 52,
   "id": "d902e589",
   "metadata": {},
   "outputs": [
    {
     "data": {
      "text/plain": [
       "array([ 0, 10, 10, 20, 20, 30])"
      ]
     },
     "execution_count": 52,
     "metadata": {},
     "output_type": "execute_result"
    }
   ],
   "source": [
    "array = np.sort(array)"
   ]
  },
  {
   "cell_type": "code",
   "execution_count": 54,
   "id": "ed09a81c",
   "metadata": {},
   "outputs": [
    {
     "data": {
      "text/plain": [
       "array({0, 10, 20, 30}, dtype=object)"
      ]
     },
     "execution_count": 54,
     "metadata": {},
     "output_type": "execute_result"
    }
   ],
   "source": [
    "np.array(set(np.concatenate((array1,array2))))"
   ]
  },
  {
   "cell_type": "markdown",
   "id": "a9712b9e",
   "metadata": {},
   "source": [
    "                                                                                                           Tao Izzo Elvira "
   ]
  }
 ],
 "metadata": {
  "kernelspec": {
   "display_name": "Python 3 (ipykernel)",
   "language": "python",
   "name": "python3"
  },
  "language_info": {
   "codemirror_mode": {
    "name": "ipython",
    "version": 3
   },
   "file_extension": ".py",
   "mimetype": "text/x-python",
   "name": "python",
   "nbconvert_exporter": "python",
   "pygments_lexer": "ipython3",
   "version": "3.11.4"
  }
 },
 "nbformat": 4,
 "nbformat_minor": 5
}
