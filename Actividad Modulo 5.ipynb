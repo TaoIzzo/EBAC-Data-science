{
 "cells": [
  {
   "cell_type": "markdown",
   "id": "979709c8",
   "metadata": {},
   "source": [
    "# Actividad Modulo 5\n",
    "# Funciones: Propósitos y Recursividad\n",
    "## Ejercicio 1: \n",
    "Desarrolle un programa en Python que a través de una función denominada “Invierte_cadena” sea capaz de invertir una cadena de caracteres. Por ejemplo, si ejecutamos: Invierte_cadena(“123abc”) debemos obtener: “cba321”"
   ]
  },
  {
   "cell_type": "code",
   "execution_count": 1,
   "id": "159d4b07",
   "metadata": {},
   "outputs": [],
   "source": [
    "def invierte_cadena(word):\n",
    "    word2=\"\"\n",
    "    for i in range(len(word),0,-1):\n",
    "        word2+=word[i-1]\n",
    "    return word2"
   ]
  },
  {
   "cell_type": "code",
   "execution_count": 2,
   "id": "d5cc908c",
   "metadata": {},
   "outputs": [
    {
     "data": {
      "text/plain": [
       "'cba321'"
      ]
     },
     "execution_count": 2,
     "metadata": {},
     "output_type": "execute_result"
    }
   ],
   "source": [
    "invierte_cadena(\"123abc\")"
   ]
  },
  {
   "cell_type": "markdown",
   "id": "4a4cb218",
   "metadata": {},
   "source": [
    "## Ejercicio 2: \n",
    "Escribe una función en Python llamada “prueba_primo” que tome un número como parámetro y compruebe si el número es primo o no. Nota: Un número primo es un número natural mayor que 1 y que no tiene divisores positivos más que 1 y él mismo. Por ejemplo, si ejecutamos: prueba_primo(7) debemos obtener: True"
   ]
  },
  {
   "cell_type": "code",
   "execution_count": 6,
   "id": "305d8343",
   "metadata": {},
   "outputs": [],
   "source": [
    "def prueba_primo(number):\n",
    "    numeros = []\n",
    "    for i in range(1,number+1):\n",
    "        if number%i==0:\n",
    "            numeros.append(i)\n",
    "        else:\n",
    "            pass\n",
    "    if len(numeros)==2:\n",
    "        return True\n",
    "    else:\n",
    "        return False"
   ]
  },
  {
   "cell_type": "code",
   "execution_count": 7,
   "id": "051c39e2",
   "metadata": {},
   "outputs": [
    {
     "data": {
      "text/plain": [
       "True"
      ]
     },
     "execution_count": 7,
     "metadata": {},
     "output_type": "execute_result"
    }
   ],
   "source": [
    "prueba_primo(7)"
   ]
  },
  {
   "cell_type": "code",
   "execution_count": 8,
   "id": "79812da4",
   "metadata": {},
   "outputs": [
    {
     "name": "stdout",
     "output_type": "stream",
     "text": [
      "El numero 2 es primo\n",
      "El numero 3 es primo\n",
      "El numero 5 es primo\n",
      "El numero 7 es primo\n",
      "El numero 11 es primo\n",
      "El numero 13 es primo\n",
      "El numero 17 es primo\n",
      "El numero 19 es primo\n",
      "El numero 23 es primo\n",
      "El numero 29 es primo\n",
      "El numero 31 es primo\n",
      "El numero 37 es primo\n",
      "El numero 41 es primo\n",
      "El numero 43 es primo\n",
      "El numero 47 es primo\n",
      "El numero 53 es primo\n",
      "El numero 59 es primo\n",
      "El numero 61 es primo\n",
      "El numero 67 es primo\n",
      "El numero 71 es primo\n",
      "El numero 73 es primo\n",
      "El numero 79 es primo\n",
      "El numero 83 es primo\n",
      "El numero 89 es primo\n",
      "El numero 97 es primo\n"
     ]
    }
   ],
   "source": [
    "for i in range(1,100):\n",
    "    if prueba_primo(i) == True:\n",
    "        print(f\"El numero {i} es primo\")"
   ]
  },
  {
   "cell_type": "markdown",
   "id": "ecd019cb",
   "metadata": {},
   "source": [
    "                                                                                                           Tao Izzo Elvira "
   ]
  }
 ],
 "metadata": {
  "kernelspec": {
   "display_name": "Python 3 (ipykernel)",
   "language": "python",
   "name": "python3"
  },
  "language_info": {
   "codemirror_mode": {
    "name": "ipython",
    "version": 3
   },
   "file_extension": ".py",
   "mimetype": "text/x-python",
   "name": "python",
   "nbconvert_exporter": "python",
   "pygments_lexer": "ipython3",
   "version": "3.11.4"
  }
 },
 "nbformat": 4,
 "nbformat_minor": 5
}
