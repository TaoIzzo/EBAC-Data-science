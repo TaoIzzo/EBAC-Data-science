{
 "cells": [
  {
   "cell_type": "markdown",
   "id": "7c139145",
   "metadata": {},
   "source": [
    "# Actividad Modulo 4\n",
    "# Ciclos: For y While \n",
    "## Ejercicio 1: \n",
    "Desarrolle un programa en Python que mediante el uso de un ciclo “While” determine si un número n (proporcionado por el usuario) puede ser expresado como 2**K donde K es entero Por ejemplo:         \n",
    "\n",
    "Si n = 8,Puede ser expresado como 2**3 = 8    \n",
    "\n",
    "Si n = 32, Puede ser expresado como 2**5 = 32       \n",
    "\n",
    "Si n = 40,  No puede ser expresado como 2**K = 40 \n",
    "\n",
    "Pruebe cada uno de los ejemplos anteriores en su código para verificar resultados, así como alguno adicional."
   ]
  },
  {
   "cell_type": "code",
   "execution_count": 2,
   "id": "c7120cb1",
   "metadata": {},
   "outputs": [
    {
     "name": "stdout",
     "output_type": "stream",
     "text": [
      "ingrese un numero para saber si puede ser expresado como potencia de dos:\n",
      "8\n",
      "el numero 8 puede ser expresado como 2 ** 3\n",
      "ingrese un numero para saber si puede ser expresado como potencia de dos:\n",
      "32\n",
      "el numero 32 puede ser expresado como 2 ** 5\n",
      "ingrese un numero para saber si puede ser expresado como potencia de dos:\n",
      "40\n",
      "el numero 40 no puede ser expresado como 2 ** K\n"
     ]
    }
   ],
   "source": [
    "for i in range(0,3):\n",
    "    key = False\n",
    "    while key ==False:\n",
    "        try:\n",
    "            number = int(input(\"ingrese un numero para saber si puede ser expresado como potencia de dos:\\n\"))\n",
    "            key=True\n",
    "            check = number\n",
    "            contador = 0\n",
    "        except:\n",
    "            print(\"Ingrese un numero, que sea entero de favor\\n\")\n",
    "    while check>1:\n",
    "        check = check/2\n",
    "        contador+=1\n",
    "    if check ==1:\n",
    "        print(f\"el numero {number} puede ser expresado como 2 ** {contador}\")\n",
    "    else:\n",
    "        print(f\"el numero {number} no puede ser expresado como 2 ** K\")"
   ]
  },
  {
   "cell_type": "markdown",
   "id": "a399db26",
   "metadata": {},
   "source": [
    "## Ejercicio 2: \n",
    "El factorial de un número entero positivo n se define de la siguiente manera: Desarrolle un programa en Python que mediante el uso de ciclos calcule el factorial del número que indique el usuario. En caso de que el valor proporcionado sea inválido (por ejemplo, que sea negativo o fraccionado), deberá devolver un mensaje de “Error de captura”. Pruebe su código calculando los factoriales de 4, 5 y 6 respectivamente así como el de 7.5"
   ]
  },
  {
   "cell_type": "code",
   "execution_count": 3,
   "id": "a67f0647",
   "metadata": {},
   "outputs": [
    {
     "name": "stdout",
     "output_type": "stream",
     "text": [
      "ingrese un numero para obtener su factorial:\n",
      "4\n",
      "El factorial de 4 es 24\n",
      "ingrese un numero para obtener su factorial:\n",
      "5\n",
      "El factorial de 5 es 120\n",
      "ingrese un numero para obtener su factorial:\n",
      "6\n",
      "El factorial de 6 es 720\n",
      "ingrese un numero para obtener su factorial:\n",
      "7.5\n",
      "Ingrese un numero, este debe ser positivo y entero\n",
      "\n",
      "ingrese un numero para obtener su factorial:\n",
      "7\n",
      "El factorial de 7 es 5040\n"
     ]
    }
   ],
   "source": [
    "for i in range(0,4):\n",
    "    key = False\n",
    "    while key ==False:\n",
    "        try:\n",
    "            number = int(input(\"ingrese un numero para obtener su factorial:\\n\"))\n",
    "            if number>=0:\n",
    "                key=True\n",
    "                check = 1\n",
    "                original=number\n",
    "            else:\n",
    "                 print(\"Ingrese un numero, este debe ser positivo y entero\\n\")\n",
    "        except:\n",
    "             print(\"Ingrese un numero, este debe ser positivo y entero\\n\")\n",
    "    while number>1:\n",
    "        check *= number\n",
    "        number-=1\n",
    "    if number ==0:\n",
    "        check = 1\n",
    "    print(f\"El factorial de {original} es {check}\")"
   ]
  }
 ],
 "metadata": {
  "kernelspec": {
   "display_name": "Python 3 (ipykernel)",
   "language": "python",
   "name": "python3"
  },
  "language_info": {
   "codemirror_mode": {
    "name": "ipython",
    "version": 3
   },
   "file_extension": ".py",
   "mimetype": "text/x-python",
   "name": "python",
   "nbconvert_exporter": "python",
   "pygments_lexer": "ipython3",
   "version": "3.11.4"
  }
 },
 "nbformat": 4,
 "nbformat_minor": 5
}
