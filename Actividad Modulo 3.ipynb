{
 "cells": [
  {
   "cell_type": "markdown",
   "id": "dea45eb3",
   "metadata": {},
   "source": [
    "# Actividad Modulo 3 \n",
    "Pasos a seguir:  \n",
    "\n",
    "1) Escribe un código en Python que solicite al usuario dos valores: el número de       horas laboradas por un trabajador en una semana y su tarifa de pago por hora  \n",
    "\n",
    "2) El programa deberá calcular el total a pagar al trabajador de acuerdo a las        siguientes reglas:                  \n",
    "\n",
    "a) Si el número de horas trabajadas es menor o igual a 40 el monto a pagar es              el número de horas multiplicado por su tarifa de pago por hora.        \n",
    "\n",
    "b) Si el número de horas trabajadas es mayor a 40 pero menor o igual a 50, el              monto a pagar es el mismo que en el inciso a)  más la diferencia en horas             por arriba de 40 a una tasa por hora 10% más alta de la tarifa básica.\n",
    "\n",
    "c) Si el número de horas trabajadas es mayor a 50, el monto a pagar es el     mismo que en el inciso b)  más la diferencia en horas por arriba de 50 a                 una tasa por hora 20% más alta de la tarifa básica.        \n",
    "\n",
    "d) En caso de que alguno de los valores capturados inicialmente (número              de horas trabajadas por semana o tarifa de pago por hora) sea              errónea (ya sea debido a la captura de valores negativos o de texto),              deberá imprimirse un mensaje que diga “Parámetros incorrectos”. "
   ]
  },
  {
   "cell_type": "code",
   "execution_count": 1,
   "id": "1d816ef7",
   "metadata": {
    "ExecuteTime": {
     "end_time": "2023-10-22T19:54:01.840392Z",
     "start_time": "2023-10-22T19:52:55.295602Z"
    }
   },
   "outputs": [
    {
     "name": "stdout",
     "output_type": "stream",
     "text": [
      "Ingrese el numero de horas semanales del trabajador:\n",
      "35\n",
      "Ingrese la tarifa de pago por hora:\n",
      "10\n",
      "El salario del trabajador es 350\n",
      "Ingrese el numero de horas semanales del trabajador:\n",
      "47\n",
      "Ingrese la tarifa de pago por hora:\n",
      "8\n",
      "El salario del trabajador es 381.6\n",
      "Ingrese el numero de horas semanales del trabajador:\n",
      "65\n",
      "Ingrese la tarifa de pago por hora:\n",
      "15\n",
      "El salario del trabajador es 1035.0\n"
     ]
    }
   ],
   "source": [
    "for i in range(0,3):\n",
    "    key = False\n",
    "    while key ==False:\n",
    "        try:\n",
    "            hora = int(input(\"Ingrese el numero de horas semanales del trabajador:\\n\"))\n",
    "            sueldo = int(input(\"Ingrese la tarifa de pago por hora:\\n\")) \n",
    "            key=True\n",
    "        except:\n",
    "            print(\"Parámetros incorrectos, vuelva a introducri los parametros\\n\")\n",
    "\n",
    "    if hora <= 40:\n",
    "        costo = hora*sueldo\n",
    "        print(f\"El salario del trabajador es {costo}\")\n",
    "    elif hora>40 and hora<=50:\n",
    "        costo = 40*sueldo+(hora-40)*(sueldo*1.10)\n",
    "        print(f\"El salario del trabajador es {costo}\")\n",
    "    else:\n",
    "        costo = hora -40\n",
    "        if costo > 10:\n",
    "            costo=costo-10\n",
    "            costo = 40*sueldo+(10)*(sueldo*1.1)+costo*(sueldo*1.20)\n",
    "        print(f\"El salario del trabajador es {costo}\")\n",
    "    "
   ]
  },
  {
   "cell_type": "markdown",
   "id": "770b82c0",
   "metadata": {},
   "source": [
    "                                                                                                             Tao Izzo Elvira"
   ]
  }
 ],
 "metadata": {
  "kernelspec": {
   "display_name": "Python 3 (ipykernel)",
   "language": "python",
   "name": "python3"
  },
  "language_info": {
   "codemirror_mode": {
    "name": "ipython",
    "version": 3
   },
   "file_extension": ".py",
   "mimetype": "text/x-python",
   "name": "python",
   "nbconvert_exporter": "python",
   "pygments_lexer": "ipython3",
   "version": "3.11.4"
  },
  "varInspector": {
   "cols": {
    "lenName": 16,
    "lenType": 16,
    "lenVar": 40
   },
   "kernels_config": {
    "python": {
     "delete_cmd_postfix": "",
     "delete_cmd_prefix": "del ",
     "library": "var_list.py",
     "varRefreshCmd": "print(var_dic_list())"
    },
    "r": {
     "delete_cmd_postfix": ") ",
     "delete_cmd_prefix": "rm(",
     "library": "var_list.r",
     "varRefreshCmd": "cat(var_dic_list()) "
    }
   },
   "types_to_exclude": [
    "module",
    "function",
    "builtin_function_or_method",
    "instance",
    "_Feature"
   ],
   "window_display": false
  }
 },
 "nbformat": 4,
 "nbformat_minor": 5
}
