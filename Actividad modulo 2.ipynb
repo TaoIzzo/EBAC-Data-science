{
 "cells": [
  {
   "cell_type": "markdown",
   "id": "0f2d91e6",
   "metadata": {},
   "source": [
    "# Actividad Modulo 2 \n",
    "Crear un programa en el cual el usuario ingrese la siguiente cadena:\n",
    "\n",
    "    \"El amor es una locura que ni el cura lo cura porque si el cura lo cura sería una locura del cura\"\n",
    "\n",
    "y haga un conteo de cada palabra para ver cuantas veces se repite\n",
    "\n"
   ]
  },
  {
   "cell_type": "code",
   "execution_count": 1,
   "id": "222d37eb",
   "metadata": {
    "ExecuteTime": {
     "end_time": "2023-10-22T17:11:12.978963Z",
     "start_time": "2023-10-22T17:11:10.107719Z"
    }
   },
   "outputs": [
    {
     "name": "stdout",
     "output_type": "stream",
     "text": [
      "Ingrese el texto para contabilizar las palabras que aparecen en él: \n",
      "El amor es una locura que ni el cura lo cura porque si el cura lo cura sería una locura del cura\n"
     ]
    }
   ],
   "source": [
    "texto = input(\"Ingrese el texto para contabilizar las palabras que aparecen en él: \\n\")"
   ]
  },
  {
   "cell_type": "code",
   "execution_count": 2,
   "id": "3e9934fb",
   "metadata": {
    "ExecuteTime": {
     "end_time": "2023-10-22T17:11:12.985447Z",
     "start_time": "2023-10-22T17:11:12.982006Z"
    }
   },
   "outputs": [],
   "source": [
    "lista = texto.split(\" \")"
   ]
  },
  {
   "cell_type": "code",
   "execution_count": 3,
   "id": "819451ac",
   "metadata": {
    "ExecuteTime": {
     "end_time": "2023-10-22T17:11:13.003238Z",
     "start_time": "2023-10-22T17:11:12.991457Z"
    }
   },
   "outputs": [],
   "source": [
    "palabras = {}\n",
    "for i in lista:\n",
    "    if i not in  palabras:\n",
    "        palabras[i] = 1\n",
    "    else:\n",
    "        palabras[i] =palabras[i] + 1"
   ]
  },
  {
   "cell_type": "code",
   "execution_count": 4,
   "id": "fdbfdb50",
   "metadata": {
    "ExecuteTime": {
     "end_time": "2023-10-22T17:11:13.014683Z",
     "start_time": "2023-10-22T17:11:13.004249Z"
    }
   },
   "outputs": [],
   "source": [
    "one = set(lista)"
   ]
  },
  {
   "cell_type": "code",
   "execution_count": 5,
   "id": "67361dc5",
   "metadata": {
    "ExecuteTime": {
     "end_time": "2023-10-22T17:11:13.027035Z",
     "start_time": "2023-10-22T17:11:13.015690Z"
    }
   },
   "outputs": [
    {
     "name": "stdout",
     "output_type": "stream",
     "text": [
      "La palabra: ni se repite 1 instancia(s)\n",
      "La palabra: porque se repite 1 instancia(s)\n",
      "La palabra: una se repite 2 instancia(s)\n",
      "La palabra: es se repite 1 instancia(s)\n",
      "La palabra: El se repite 1 instancia(s)\n",
      "La palabra: si se repite 1 instancia(s)\n",
      "La palabra: del se repite 1 instancia(s)\n",
      "La palabra: locura se repite 2 instancia(s)\n",
      "La palabra: lo se repite 2 instancia(s)\n",
      "La palabra: que se repite 1 instancia(s)\n",
      "La palabra: amor se repite 1 instancia(s)\n",
      "La palabra: el se repite 2 instancia(s)\n",
      "La palabra: sería se repite 1 instancia(s)\n",
      "La palabra: cura se repite 5 instancia(s)\n"
     ]
    }
   ],
   "source": [
    "for i in (one):\n",
    "    print(f\"La palabra: {i} se repite {palabras[i]} instancia(s)\")"
   ]
  },
  {
   "cell_type": "code",
   "execution_count": 6,
   "id": "2a7ecb99",
   "metadata": {
    "ExecuteTime": {
     "end_time": "2023-10-22T17:11:13.037281Z",
     "start_time": "2023-10-22T17:11:13.028044Z"
    }
   },
   "outputs": [],
   "source": [
    "lista2 = []\n",
    "for i in (lista):\n",
    "    if i not in lista2:\n",
    "        lista2.append(i)\n",
    "    else:\n",
    "        pass"
   ]
  },
  {
   "cell_type": "code",
   "execution_count": 7,
   "id": "57cb387c",
   "metadata": {
    "ExecuteTime": {
     "end_time": "2023-10-22T17:11:13.047198Z",
     "start_time": "2023-10-22T17:11:13.039289Z"
    }
   },
   "outputs": [
    {
     "name": "stdout",
     "output_type": "stream",
     "text": [
      "La palabra: \"El\" se repite 1 instancia(s)\n",
      "La palabra: \"amor\" se repite 1 instancia(s)\n",
      "La palabra: \"es\" se repite 1 instancia(s)\n",
      "La palabra: \"una\" se repite 2 instancia(s)\n",
      "La palabra: \"locura\" se repite 2 instancia(s)\n",
      "La palabra: \"que\" se repite 1 instancia(s)\n",
      "La palabra: \"ni\" se repite 1 instancia(s)\n",
      "La palabra: \"el\" se repite 2 instancia(s)\n",
      "La palabra: \"cura\" se repite 5 instancia(s)\n",
      "La palabra: \"lo\" se repite 2 instancia(s)\n",
      "La palabra: \"porque\" se repite 1 instancia(s)\n",
      "La palabra: \"si\" se repite 1 instancia(s)\n",
      "La palabra: \"sería\" se repite 1 instancia(s)\n",
      "La palabra: \"del\" se repite 1 instancia(s)\n"
     ]
    }
   ],
   "source": [
    "for i in (lista2):\n",
    "    print(f\"La palabra: \\\"{i}\\\" se repite {palabras[i]} instancia(s)\")"
   ]
  },
  {
   "cell_type": "markdown",
   "id": "054569fb",
   "metadata": {},
   "source": [
    "                                                                                                            Tao Izzo Elvira"
   ]
  }
 ],
 "metadata": {
  "kernelspec": {
   "display_name": "Python 3 (ipykernel)",
   "language": "python",
   "name": "python3"
  },
  "language_info": {
   "codemirror_mode": {
    "name": "ipython",
    "version": 3
   },
   "file_extension": ".py",
   "mimetype": "text/x-python",
   "name": "python",
   "nbconvert_exporter": "python",
   "pygments_lexer": "ipython3",
   "version": "3.11.3"
  },
  "varInspector": {
   "cols": {
    "lenName": 16,
    "lenType": 16,
    "lenVar": 40
   },
   "kernels_config": {
    "python": {
     "delete_cmd_postfix": "",
     "delete_cmd_prefix": "del ",
     "library": "var_list.py",
     "varRefreshCmd": "print(var_dic_list())"
    },
    "r": {
     "delete_cmd_postfix": ") ",
     "delete_cmd_prefix": "rm(",
     "library": "var_list.r",
     "varRefreshCmd": "cat(var_dic_list()) "
    }
   },
   "types_to_exclude": [
    "module",
    "function",
    "builtin_function_or_method",
    "instance",
    "_Feature"
   ],
   "window_display": false
  }
 },
 "nbformat": 4,
 "nbformat_minor": 5
}
